{
 "cells": [
  {
   "metadata": {
    "ExecuteTime": {
     "end_time": "2024-08-31T15:10:54.585710Z",
     "start_time": "2024-08-31T15:10:54.494673Z"
    }
   },
   "cell_type": "code",
   "source": [
    "from langchain.prompts import ChatPromptTemplate\n",
    "from langchain_openai import ChatOpenAI\n",
    "from langchain.callbacks import StreamingStdOutCallbackHandler\n",
    " \n",
    "chat = ChatOpenAI(\n",
    "                temperature=0.1, \n",
    "                streaming=True,\n",
    "                callbacks=[StreamingStdOutCallbackHandler()])\n",
    " \n",
    "haiku_prompt = ChatPromptTemplate.from_messages([\n",
    "     (\"system\", \"You are a world-class international haiku writer. You create easy to follow haiku with easy to find ingredients.\"),\n",
    "     (\"human\", \"I want to haiku of  {language} programming language.\"),\n",
    "     \n",
    " ])\n",
    " \n",
    "haiku_chain = haiku_prompt | chat\n",
    " \n",
    " "
   ],
   "outputs": [],
   "execution_count": 2
  },
  {
   "metadata": {
    "ExecuteTime": {
     "end_time": "2024-08-31T15:10:59.779133Z",
     "start_time": "2024-08-31T15:10:58.050930Z"
    }
   },
   "cell_type": "code",
   "source": [
    "haiku_explanation_prompt = ChatPromptTemplate.from_messages([\n",
    "    (\"system\", \"You are a haiku expert so explain this haiku chain nicely in english and korean.\"),\n",
    "    (\"human\", \"{haiku}\")\n",
    "])\n",
    "\n",
    "haiku_explanation_chain = haiku_explanation_prompt | chat\n",
    "\n",
    "final_chain = {\"haiku\":haiku_chain} | haiku_explanation_chain\n",
    "final_chain.invoke({\n",
    "    \"language\": \"python\"\n",
    "})"
   ],
   "outputs": [
    {
     "name": "stdout",
     "output_type": "stream",
     "text": [
      "Indentation key,\n",
      "Python's syntax unique charm,\n",
      "Code with elegance.In English:\n",
      "Indentation key,\n",
      "Python's syntax unique charm,\n",
      "Code with elegance.\n",
      "\n",
      "In Korean:\n",
      "들여쓰기 키,\n",
      "파이썬의 독특한 매력,\n",
      "우아하게 코드를 작성하다."
     ]
    },
    {
     "data": {
      "text/plain": [
       "AIMessage(content=\"In English:\\nIndentation key,\\nPython's syntax unique charm,\\nCode with elegance.\\n\\nIn Korean:\\n들여쓰기 키,\\n파이썬의 독특한 매력,\\n우아하게 코드를 작성하다.\", response_metadata={'finish_reason': 'stop', 'model_name': 'gpt-3.5-turbo-0125'}, id='run-17030ae2-ca74-43f0-aeb5-57ec5f8b932f-0')"
      ]
     },
     "execution_count": 3,
     "metadata": {},
     "output_type": "execute_result"
    }
   ],
   "execution_count": 3
  },
  {
   "metadata": {},
   "cell_type": "code",
   "outputs": [],
   "execution_count": null,
   "source": ""
  }
 ],
 "metadata": {
  "kernelspec": {
   "display_name": "Python 3",
   "language": "python",
   "name": "python3"
  },
  "language_info": {
   "codemirror_mode": {
    "name": "ipython",
    "version": 2
   },
   "file_extension": ".py",
   "mimetype": "text/x-python",
   "name": "python",
   "nbconvert_exporter": "python",
   "pygments_lexer": "ipython2",
   "version": "2.7.6"
  }
 },
 "nbformat": 4,
 "nbformat_minor": 0
}
