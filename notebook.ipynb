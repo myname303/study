{
 "cells": [
  {
   "metadata": {
    "ExecuteTime": {
     "end_time": "2024-08-31T15:10:54.585710Z",
     "start_time": "2024-08-31T15:10:54.494673Z"
    }
   },
   "cell_type": "code",
   "source": [
    "from langchain.prompts import ChatPromptTemplate\n",
    "from langchain_core.example_selectors import LengthBasedExampleSelector\n",
    "from langchain_openai import ChatOpenAI\n",
    "from langchain.callbacks import StreamingStdOutCallbackHandler\n",
    "\n",
    "chat = ChatOpenAI(\n",
    "                temperature=0.1, \n",
    "                streaming=True,\n",
    "                callbacks=[StreamingStdOutCallbackHandler()])\n",
    " \n",
    "haiku_prompt = ChatPromptTemplate.from_messages([\n",
    "     (\"system\", \"You are a world-class international haiku writer. You create easy to follow haiku with easy to find ingredients.\"),\n",
    "     (\"human\", \"I want to haiku of  {language} programming language.\"),\n",
    "     \n",
    " ])\n",
    " \n",
    "haiku_chain = haiku_prompt | chat\n",
    " \n",
    " "
   ],
   "outputs": [],
   "execution_count": 2
  },
  {
   "metadata": {
    "ExecuteTime": {
     "end_time": "2024-08-31T15:10:59.779133Z",
     "start_time": "2024-08-31T15:10:58.050930Z"
    }
   },
   "cell_type": "code",
   "source": [
    "haiku_explanation_prompt = ChatPromptTemplate.from_messages([\n",
    "    (\"system\", \"You are a haiku expert so explain this haiku chain nicely in english and korean.\"),\n",
    "    (\"human\", \"{haiku}\")\n",
    "])\n",
    "\n",
    "haiku_explanation_chain = haiku_explanation_prompt | chat\n",
    "\n",
    "final_chain = {\"haiku\":haiku_chain} | haiku_explanation_chain\n",
    "final_chain.invoke({\n",
    "    \"language\": \"python\"\n",
    "})"
   ],
   "outputs": [
    {
     "name": "stdout",
     "output_type": "stream",
     "text": [
      "Indentation key,\n",
      "Python's syntax unique charm,\n",
      "Code with elegance.In English:\n",
      "Indentation key,\n",
      "Python's syntax unique charm,\n",
      "Code with elegance.\n",
      "\n",
      "In Korean:\n",
      "들여쓰기 키,\n",
      "파이썬의 독특한 매력,\n",
      "우아하게 코드를 작성하다."
     ]
    },
    {
     "data": {
      "text/plain": [
       "AIMessage(content=\"In English:\\nIndentation key,\\nPython's syntax unique charm,\\nCode with elegance.\\n\\nIn Korean:\\n들여쓰기 키,\\n파이썬의 독특한 매력,\\n우아하게 코드를 작성하다.\", response_metadata={'finish_reason': 'stop', 'model_name': 'gpt-3.5-turbo-0125'}, id='run-17030ae2-ca74-43f0-aeb5-57ec5f8b932f-0')"
      ]
     },
     "execution_count": 3,
     "metadata": {},
     "output_type": "execute_result"
    }
   ],
   "execution_count": 3
  },
  {
   "metadata": {
    "ExecuteTime": {
     "end_time": "2024-09-01T11:39:22.475730Z",
     "start_time": "2024-09-01T11:39:22.454483Z"
    }
   },
   "cell_type": "code",
   "source": "",
   "outputs": [
    {
     "data": {
      "text/plain": [
       "'What is the capital of France'"
      ]
     },
     "execution_count": 5,
     "metadata": {},
     "output_type": "execute_result"
    }
   ],
   "execution_count": 5
  },
  {
   "metadata": {
    "ExecuteTime": {
     "end_time": "2024-09-01T16:28:35.760737Z",
     "start_time": "2024-09-01T16:28:34.665642Z"
    }
   },
   "cell_type": "code",
   "source": [
    "from langchain.chat_models import ChatOpenAI\n",
    "from langchain.prompts.few_shot import FewShotChatMessagePromptTemplate\n",
    "from langchain.callbacks import StreamingStdOutCallbackHandler\n",
    "from langchain.prompts import ChatPromptTemplate\n",
    "from langchain.prompts.example_selector import LengthBasedExampleSelector\n",
    "chat = ChatOpenAI(\n",
    "    temperature=0.1,\n",
    "    streaming=True,\n",
    "    callbacks=[\n",
    "        StreamingStdOutCallbackHandler(),\n",
    "    ],\n",
    ")\n",
    "\n",
    "examples = [\n",
    "    {\n",
    "        \"movie\": \"Inception\",\n",
    "        \"answer\": \"\"\"\n",
    "        Here is what I know:\n",
    "        Director: Christopher Nolan\n",
    "        Main Cast: Leonardo DiCaprio, Joseph Gordon-Levitt, Ellen Page, Tom Hardy\n",
    "        Budget: $160 million\n",
    "        Box Office Revenue: $836.8 million\n",
    "        Genre: Science Fiction, Action, Thriller\n",
    "        \"\"\",\n",
    "    },\n",
    "    {\n",
    "        \"movie\": \"The Godfather\",\n",
    "        \"answer\": \"\"\"\n",
    "        I know this:\n",
    "        Director: Francis Ford Coppola\n",
    "        Main Cast: Marlon Brando, Al Pacino, James Caan, Diane Keaton\n",
    "        Budget: $6-7 million\n",
    "        Box Office Revenue: $250-287 million\n",
    "        Genre: Crime, Drama\n",
    "        \"\"\",\n",
    "    },\n",
    "    {\n",
    "        \"movie\": \"Titanic\",\n",
    "        \"answer\": \"\"\"\n",
    "        I know this:\n",
    "        Director: James Cameron\n",
    "        Main Cast: Leonardo DiCaprio, Kate Winslet, Billy Zane, Kathy Bates\n",
    "        Budget: $200 million\n",
    "        Box Office Revenue: $2.2 billion\n",
    "        Genre: Romance, Drama\n",
    "        \"\"\",\n",
    "    },\n",
    "]\n",
    "\n",
    "\n",
    "\n",
    "example_prompt = ChatPromptTemplate.from_messages([\n",
    "    (\"human\", \"What do you know about {movie}\"),\n",
    "    (\"ai\", \"{answer}\")\n",
    "])\n",
    "\n",
    "example_prompt = FewShotChatMessagePromptTemplate(\n",
    "    example_prompt=example_prompt,\n",
    "    examples=examples,\n",
    ")\n",
    "\n",
    "final_prompt = ChatPromptTemplate.from_messages([\n",
    "    (\"system\", \"You are a movie expert, you give short answers.\"),\n",
    "    example_prompt,\n",
    "    (\"human\", \"What do you know about {movie}\")\n",
    "])\n",
    "chain = final_prompt | chat\n",
    "\n",
    "chain.invoke({\"movie\": \"Cats\"})\n"
   ],
   "outputs": [
    {
     "name": "stdout",
     "output_type": "stream",
     "text": [
      "I know this:\n",
      "        Director: Tom Hooper\n",
      "        Main Cast: James Corden, Judi Dench, Jason Derulo, Idris Elba, Jennifer Hudson, Ian McKellen, Taylor Swift, Rebel Wilson\n",
      "        Budget: $95 million\n",
      "        Box Office Revenue: $75 million\n",
      "        Genre: Musical, Fantasy"
     ]
    },
    {
     "data": {
      "text/plain": [
       "AIMessage(content='I know this:\\n        Director: Tom Hooper\\n        Main Cast: James Corden, Judi Dench, Jason Derulo, Idris Elba, Jennifer Hudson, Ian McKellen, Taylor Swift, Rebel Wilson\\n        Budget: $95 million\\n        Box Office Revenue: $75 million\\n        Genre: Musical, Fantasy', response_metadata={'finish_reason': 'stop'}, id='run-eb4c9699-4e79-4836-9cbc-a8215ffbfe79-0')"
      ]
     },
     "execution_count": 15,
     "metadata": {},
     "output_type": "execute_result"
    }
   ],
   "execution_count": 15
  },
  {
   "metadata": {},
   "cell_type": "code",
   "outputs": [],
   "execution_count": null,
   "source": ""
  }
 ],
 "metadata": {
  "kernelspec": {
   "display_name": "Python 3",
   "language": "python",
   "name": "python3"
  },
  "language_info": {
   "codemirror_mode": {
    "name": "ipython",
    "version": 2
   },
   "file_extension": ".py",
   "mimetype": "text/x-python",
   "name": "python",
   "nbconvert_exporter": "python",
   "pygments_lexer": "ipython2",
   "version": "2.7.6"
  }
 },
 "nbformat": 4,
 "nbformat_minor": 0
}
